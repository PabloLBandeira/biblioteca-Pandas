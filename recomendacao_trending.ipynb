{
  "cells": [
    {
      "cell_type": "markdown",
      "metadata": {
        "id": "view-in-github",
        "colab_type": "text"
      },
      "source": [
        "<a href=\"https://colab.research.google.com/github/PabloLBandeira/biblioteca-Pandas/blob/main/recomendacao_trending.ipynb\" target=\"_parent\"><img src=\"https://colab.research.google.com/assets/colab-badge.svg\" alt=\"Open In Colab\"/></a>"
      ]
    },
    {
      "cell_type": "markdown",
      "metadata": {
        "id": "PLwFwBbowGgF"
      },
      "source": [
        "<img src=\"https://www.escoladnc.com.br/wp-content/uploads/2022/06/dnc_formacao_dados_logo_principal_preto-1.svg\" alt=\"drawing\" width=\"300\"/>\n",
        "\n",
        "# Recomendação Trending\n",
        "\n",
        "<!-- Este notebook contém 2 exemplos de recomendação Top N:\n",
        "\n",
        "- **Top N consumidos**: os N itens mais consumidos pelos usuários\n",
        "- **Top N avaliados**: os N itens melhores avaliados pelos usuários -->\n",
        "\n",
        "O dataset a ser utilizado será o [MovieLens](https://grouplens.org/datasets/movielens/), cuja análise exploratória foi feita no exemplo prático do módulo **Introdução aos Sistemas de Recomendação**."
      ]
    },
    {
      "cell_type": "code",
      "execution_count": 1,
      "metadata": {
        "id": "NguHDSsSwGgM"
      },
      "outputs": [],
      "source": [
        "import os\n",
        "import re\n",
        "import sys\n",
        "import pandas as pd\n",
        "from datetime import datetime\n",
        "from google.colab import files\n",
        "import matplotlib.pyplot as plt\n",
        "import matplotlib\n",
        "from cycler import cycler\n",
        "\n",
        "matplotlib.rcParams['axes.prop_cycle'] = cycler(color=['#007efd', '#FFC000', '#303030'])"
      ]
    },
    {
      "cell_type": "markdown",
      "metadata": {
        "id": "_L6JTvzQwGgO"
      },
      "source": [
        "# Carregando e processando o dataset\n",
        "\n",
        "Para mais informações desta sessão, consulte o notebook `Introdução aos Sistemas de Recomendação` do módulo 01."
      ]
    },
    {
      "cell_type": "markdown",
      "source": [
        "## Arquivo de avaliações\n",
        "\n",
        "Upload file `ratings.parquet`"
      ],
      "metadata": {
        "id": "7427clYPwz91"
      }
    },
    {
      "cell_type": "code",
      "execution_count": null,
      "metadata": {
        "id": "ryYBFZWIwGgQ"
      },
      "outputs": [],
      "source": [
        "%%time\n",
        "_ = files.upload()"
      ]
    },
    {
      "cell_type": "code",
      "source": [
        "def convert_timestamp_to_date(timestamp:int):\n",
        "    return datetime.fromtimestamp(timestamp).date()\n",
        "\n",
        "df_ratings = pd.read_parquet('ratings.parquet')\n",
        "df_ratings['date'] = df_ratings['timestamp'].apply(convert_timestamp_to_date)\n",
        "df_ratings.tail()"
      ],
      "metadata": {
        "id": "MH5-JLBbw_AI"
      },
      "execution_count": null,
      "outputs": []
    },
    {
      "cell_type": "markdown",
      "source": [
        "## Arquivo de metadados dos itens\n",
        "\n",
        "Upload file `movies.parquet`"
      ],
      "metadata": {
        "id": "FT-xs1nDw4N8"
      }
    },
    {
      "cell_type": "code",
      "source": [
        "%%time\n",
        "_ = files.upload()"
      ],
      "metadata": {
        "id": "45fA1AkIxRVy"
      },
      "execution_count": null,
      "outputs": []
    },
    {
      "cell_type": "code",
      "execution_count": null,
      "metadata": {
        "id": "q5FZnr8RwGgR"
      },
      "outputs": [],
      "source": [
        "def extract_year_from_title(title:str, regex='(\\d{4})'):\n",
        "    match = re.search(regex, title)\n",
        "    return None if match is None else match.group()\n",
        "\n",
        "def convert_genres_to_list(genres:str, separator='|'):\n",
        "    return genres.split(separator)\n",
        "\n",
        "df_items = pd.read_parquet('movies.parquet')\n",
        "df_items['genres'] = df_items['genres'].apply(convert_genres_to_list)\n",
        "df_items['year'] = df_items['title'].apply(extract_year_from_title)\n",
        "df_items.tail()"
      ]
    },
    {
      "cell_type": "markdown",
      "metadata": {
        "id": "Oj5s9xuAwGgV"
      },
      "source": [
        "# Cálculo do Trending\n",
        "\n",
        "A recomendação _trending_ busca apresentar os itens que tiveram maior _lift_ de consumo em uma determinada janela de tempo. Em termos matemáticos, o _lift_ pode ser definido como:\n",
        "\n",
        "$$lift = \\frac{consumoJanelaAtual-consumoJanelaAnterior}{consumoJanelaAnterior}$$\n",
        "\n",
        "Neste notebook, utilizaremos como janela de tempo o mês de consumo do item. A função abaixo nos auxilia a definir uma coluna `window` que será utilizada na lógica do algoritmo."
      ]
    },
    {
      "cell_type": "code",
      "execution_count": null,
      "metadata": {
        "id": "dTkyp-YawGgW"
      },
      "outputs": [],
      "source": [
        "def extract_year_month(date):\n",
        "    return '{:04d}-{:02d}'.format(date.year, date.month)\n",
        "\n",
        "df_ratings['window'] = df_ratings['date'].apply(extract_year_month)\n",
        "df_ratings.tail()"
      ]
    },
    {
      "cell_type": "markdown",
      "source": [
        "## Consumo por janela temporal"
      ],
      "metadata": {
        "id": "0EHEadaW0RXO"
      }
    },
    {
      "cell_type": "code",
      "execution_count": null,
      "metadata": {
        "id": "3pFiCZtAwGgY"
      },
      "outputs": [],
      "source": [
        "df_window_consumptions = (\n",
        "    df_ratings\n",
        "    .groupby(['item_id', 'window'])\n",
        "    .agg({'user_id': 'count'})\n",
        "    .reset_index()\n",
        "    .rename({'user_id': 'count'}, axis=1)\n",
        "    .sort_values(by=['item_id', 'window'])\n",
        ")\n",
        "df_window_consumptions"
      ]
    },
    {
      "cell_type": "markdown",
      "source": [
        "## Shift temporal\n",
        "\n",
        "Para realizar operações entre o valor atual e o anterior de uma janela temporal podemos **deslocar** (_shift_) os valores de uma coluna a partir de um agrupamento. Exemplo:\n",
        "\n",
        "| Agrupamento | Valor | Shift Valor |\n",
        "|--------|-------|-------------|\n",
        "| A      | A1    | N/A         |\n",
        "| A      | A2    | A1          |\n",
        "| B      | B1    | N/A         |\n",
        "| B      | B2    | B1          |\n",
        "| B      | B3    | B2          |"
      ],
      "metadata": {
        "id": "WtwCCHB20ltW"
      }
    },
    {
      "cell_type": "code",
      "execution_count": null,
      "metadata": {
        "id": "zYXjZVFqwGga"
      },
      "outputs": [],
      "source": [
        "df_window_consumptions.sort_values(by=['item_id', 'window'], inplace=True)\n",
        "\n",
        "df_window_consumptions['count_previous'] = (\n",
        "    df_window_consumptions\n",
        "    .groupby(['item_id'])['count']\n",
        "    .shift(1)\n",
        ")\n",
        "df_window_consumptions"
      ]
    },
    {
      "cell_type": "markdown",
      "source": [
        "## Lift\n",
        "\n",
        "Implementando a seguinte fórmula:\n",
        "$$lift = \\frac{contagemJanelaAtual-contagemJanelaAnterior}{contagemJanelaAnterior}$$"
      ],
      "metadata": {
        "id": "xG6X7U-z0vPy"
      }
    },
    {
      "cell_type": "code",
      "execution_count": null,
      "metadata": {
        "id": "uwuPbnORwGgb"
      },
      "outputs": [],
      "source": [
        "df_window_consumptions['lift'] = (df_window_consumptions['count'] - df_window_consumptions['count_previous'])/df_window_consumptions['count_previous']\n",
        "df_window_consumptions"
      ]
    },
    {
      "cell_type": "markdown",
      "source": [
        "## Especificando janela de recomendação\n",
        "\n",
        "Para a recomendação precisamos de uma janela de referência. Por exemplo:\n",
        "\n",
        "- Trending na janela atual?\n",
        "- Trending na janela anterior?\n",
        "- Trending em uma janela específica?\n",
        "\n",
        "Definida a janela de referência, utilizamos o valor do _lift_ como _score_ do item e ordenamos pelo _score_."
      ],
      "metadata": {
        "id": "8UJQaHfz3tdv"
      }
    },
    {
      "cell_type": "code",
      "execution_count": null,
      "metadata": {
        "id": "Qcq0HuJGwGgc"
      },
      "outputs": [],
      "source": [
        "prediction_window = '2003-01'\n",
        "(\n",
        "    df_window_consumptions\n",
        "    .query('window == @prediction_window')\n",
        "    .rename({'lift': 'score'}, axis=1)\n",
        "    .sort_values(by='score', ascending=False)\n",
        ")"
      ]
    },
    {
      "cell_type": "markdown",
      "source": [
        "_____________"
      ],
      "metadata": {
        "id": "jJiiCK9gMKYA"
      }
    },
    {
      "cell_type": "markdown",
      "source": [
        "# Recomendando Itens Trending\n",
        "\n",
        "Por fim, juntamos toda a lógica descrita até então na função `recommend_trending_n` abaixo para recomendar os N items que estão em maior ascensão."
      ],
      "metadata": {
        "id": "QtPheggR4qw8"
      }
    },
    {
      "cell_type": "code",
      "execution_count": null,
      "metadata": {
        "id": "Uy3Ax_pIwGgd"
      },
      "outputs": [],
      "source": [
        "def recommend_trending_n(ratings:pd.DataFrame, n:int, prediction_window:str=None, min_evaluations:int=None) -> pd.DataFrame:\n",
        "\n",
        "    prediction_window = max(ratings['window']) if prediction_window is None else prediction_window\n",
        "\n",
        "    ratings = ratings[['item_id', 'window', 'user_id']]\n",
        "    # Calculo de janela\n",
        "    df_window_consumptions = (\n",
        "        ratings\n",
        "        .groupby(['item_id', 'window'])['user_id']\n",
        "        .count()\n",
        "        .reset_index()\n",
        "        .rename({'user_id': 'count'}, axis=1)\n",
        "        .sort_values(by=['item_id', 'window'])\n",
        "    )\n",
        "\n",
        "    # Shift temporal\n",
        "    df_window_consumptions['count_previous'] = (\n",
        "        df_window_consumptions\n",
        "        .groupby(['item_id'])['count']\n",
        "        .shift(1)\n",
        "    )\n",
        "\n",
        "    # Calculo do lift\n",
        "    df_window_consumptions['lift'] = (df_window_consumptions['count'] - df_window_consumptions['count_previous'])/df_window_consumptions['count_previous']\n",
        "\n",
        "    # Selecao de janela\n",
        "    recommendations = (\n",
        "      df_window_consumptions\n",
        "      .query('window == @prediction_window')\n",
        "      .rename({'lift': 'score'}, axis=1)\n",
        "      .sort_values(by='score', ascending=False)\n",
        "    )\n",
        "\n",
        "    if min_evaluations is not None:\n",
        "        recommendations = recommendations.query('count_previous >= @min_evaluations')\n",
        "\n",
        "    return recommendations.head(n)\n",
        "\n",
        "df_trending = recommend_trending_n(df_ratings, n=10, prediction_window='2002-12')\n",
        "df_trending.merge(df_items, on='item_id', how='inner')"
      ]
    },
    {
      "cell_type": "markdown",
      "source": [
        "Note que alguns itens tiveram _lift_/_score_ altos, porém **poucos usuários consumiram estes itens**.\n",
        "\n",
        "Para evitar estes comportamentos, podemos estabelecer um limite mínimo de consumo para que um item seja recomendável."
      ],
      "metadata": {
        "id": "nRtPZE9O5NZT"
      }
    },
    {
      "cell_type": "code",
      "execution_count": null,
      "metadata": {
        "id": "rjPEVVa7wGge"
      },
      "outputs": [],
      "source": [
        "prediction_window = '2002-12'\n",
        "min_evaluations = 2\n",
        "n = 10\n",
        "\n",
        "df_trending = recommend_trending_n(\n",
        "    df_ratings,\n",
        "    n=n,\n",
        "    prediction_window=prediction_window,\n",
        "    min_evaluations=min_evaluations\n",
        ")\n",
        "df_trending.merge(df_items, on='item_id', how='inner')"
      ]
    },
    {
      "cell_type": "markdown",
      "source": [
        "# Seleção de Acervo\n",
        "\n",
        "Podemos selecionar itens específicos a serem recomendados filtrando o dataset de avaliações."
      ],
      "metadata": {
        "id": "zay3EUCN5-ZZ"
      }
    },
    {
      "cell_type": "code",
      "execution_count": null,
      "metadata": {
        "id": "l0ITkdgkwGgg"
      },
      "outputs": [],
      "source": [
        "genre = \"Children's\"\n",
        "item_ids = df_items[df_items['genres'].apply(lambda x: genre in x)]['item_id']\n",
        "df_ratings_filtered = df_ratings[df_ratings['item_id'].isin(item_ids)]\n",
        "df_ratings_filtered.tail()"
      ]
    },
    {
      "cell_type": "code",
      "execution_count": null,
      "metadata": {
        "id": "FG9eaU_KwGgh"
      },
      "outputs": [],
      "source": [
        "df_trending = recommend_trending_n(df_ratings_filtered, n=10, prediction_window='2002-12', min_evaluations=2)\n",
        "df_trending.merge(df_items, on='item_id', how='inner')"
      ]
    }
  ],
  "metadata": {
    "kernelspec": {
      "display_name": "Python 3.9.15 64-bit",
      "language": "python",
      "name": "python3"
    },
    "language_info": {
      "codemirror_mode": {
        "name": "ipython",
        "version": 3
      },
      "file_extension": ".py",
      "mimetype": "text/x-python",
      "name": "python",
      "nbconvert_exporter": "python",
      "pygments_lexer": "ipython3",
      "version": "3.9.15"
    },
    "orig_nbformat": 4,
    "vscode": {
      "interpreter": {
        "hash": "949777d72b0d2535278d3dc13498b2535136f6dfe0678499012e853ee9abcab1"
      }
    },
    "colab": {
      "provenance": [],
      "include_colab_link": true
    }
  },
  "nbformat": 4,
  "nbformat_minor": 0
}